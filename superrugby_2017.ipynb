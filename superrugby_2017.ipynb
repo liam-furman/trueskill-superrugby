{
 "cells": [
  {
   "cell_type": "code",
   "execution_count": 52,
   "metadata": {
    "collapsed": true
   },
   "outputs": [],
   "source": [
    "from bs4 import BeautifulSoup\n",
    "import requests\n",
    "import pandas as pd\n",
    "import datetime\n",
    "import re\n",
    "%matplotlib inline "
   ]
  },
  {
   "cell_type": "code",
   "execution_count": 2,
   "metadata": {
    "collapsed": false
   },
   "outputs": [
    {
     "name": "stdout",
     "output_type": "stream",
     "text": [
      "\n",
      "<td>\n",
      "W. Force\n",
      "</td>\n",
      "<td>\n",
      "5\n",
      "</td>\n",
      "<td>\n",
      "18/2/06\n",
      "</td>\n",
      "\n"
     ]
    }
   ],
   "source": [
    "def strip_tags(soup, tags):\n",
    "    for tag in tags:\n",
    "        for match in soup.findAll(tag):\n",
    "            match.replaceWithChildren()\n",
    "\n",
    "soup = BeautifulSoup(\"\"\"\n",
    "    <td>\n",
    "    <div align=\"center\">W. Force</div>\n",
    "    </td>\n",
    "    <td>\n",
    "    <div align=\"center\">5</div>\n",
    "    </td>\n",
    "    <td>\n",
    "    <div align=\"center\">18/2/06</div>\n",
    "    </td>\n",
    "    \"\"\", 'html.parser' )          \n",
    "strip_tags(soup, [\"div\", \"invalid\"])\n",
    "print(soup)"
   ]
  },
  {
   "cell_type": "code",
   "execution_count": 8,
   "metadata": {
    "collapsed": false,
    "scrolled": true
   },
   "outputs": [
    {
     "name": "stdout",
     "output_type": "stream",
     "text": [
      "Successfully downloaded http://www.superxv.com/results/2006-super-rugby-results/\n",
      "Successfully downloaded http://www.superxv.com/results/2007-super-rugby-results/\n",
      "Successfully downloaded http://www.superxv.com/results/2008-super-rugby-results/\n",
      "Successfully downloaded http://www.superxv.com/results/2009-super-rugby-results/\n",
      "Successfully downloaded http://www.superxv.com/results/2010-super-rugby-results/\n",
      "Successfully downloaded http://www.superxv.com/results/2011-super-rugby-results/\n",
      "Successfully downloaded http://www.superxv.com/results/2012-super-rugby-results/\n",
      "Successfully downloaded http://www.superxv.com/results/2013-super-rugby-results/\n",
      "Successfully downloaded http://www.superxv.com/results/2014-super-rugby-results/\n",
      "Successfully downloaded http://www.superxv.com/results/2015-super-rugby-results/\n",
      "Successfully downloaded http://www.superxv.com/results/2016-super-rugby-results/\n",
      "Successfully downloaded http://www.superxv.com/results/2017-super-rugby-results/\n"
     ]
    }
   ],
   "source": [
    " ##### Read results from www.superxv.com into DataFrame\n",
    "teams_1 = []\n",
    "teams_2 = []\n",
    "scores_1 = []\n",
    "scores_2 = []\n",
    "dates = []\n",
    "for year in [str(y) for y in range(2006, 2018)]:\n",
    "    url = 'http://www.superxv.com/results/{year}-super-rugby-results/'.format(year=year)\n",
    "    page = requests.get(url)\n",
    "    if page.status_code != 200:\n",
    "        print('Error downloading {url}'.format(url=url))\n",
    "    else:\n",
    "        print('Successfully downloaded {url}'.format(url=url))\n",
    "        for table in BeautifulSoup(page.content, 'html.parser').find_all('table'):\n",
    "            strip_tags(table, [\"div\"])\n",
    "            for row in table.find_all('tr')[1:]:\n",
    "                entries = row.find_all('td')\n",
    "                if entries[0].text.strip() not in ['Bye', 'Not playing' ,'']: # and entries[1] = '':\n",
    "                    teams_1.append(entries[0].text.strip().replace('\\n',' '))\n",
    "                    teams_2.append(entries[3].text.strip().replace('\\n',' '))\n",
    "                    scores_1.append(entries[1].text.strip())\n",
    "                    scores_2.append(entries[4].text.strip())\n",
    "                    dates.append(entries[5].text.strip())\n",
    "df = pd.DataFrame({\n",
    "        'date':dates,\n",
    "        'team_1':teams_1,\n",
    "        'team_2':teams_2,\n",
    "        'score_1':scores_1,\n",
    "        'score_2':scores_2})"
   ]
  },
  {
   "cell_type": "code",
   "execution_count": 9,
   "metadata": {
    "collapsed": false
   },
   "outputs": [
    {
     "data": {
      "text/html": [
       "<div>\n",
       "<table border=\"1\" class=\"dataframe\">\n",
       "  <thead>\n",
       "    <tr style=\"text-align: right;\">\n",
       "      <th></th>\n",
       "      <th>date</th>\n",
       "      <th>score_1</th>\n",
       "      <th>score_2</th>\n",
       "      <th>team_1</th>\n",
       "      <th>team_2</th>\n",
       "    </tr>\n",
       "    <tr>\n",
       "      <th>year</th>\n",
       "      <th></th>\n",
       "      <th></th>\n",
       "      <th></th>\n",
       "      <th></th>\n",
       "      <th></th>\n",
       "    </tr>\n",
       "  </thead>\n",
       "  <tbody>\n",
       "    <tr>\n",
       "      <th>2006</th>\n",
       "      <td>94</td>\n",
       "      <td>94</td>\n",
       "      <td>94</td>\n",
       "      <td>94</td>\n",
       "      <td>94</td>\n",
       "    </tr>\n",
       "    <tr>\n",
       "      <th>2007</th>\n",
       "      <td>94</td>\n",
       "      <td>94</td>\n",
       "      <td>94</td>\n",
       "      <td>94</td>\n",
       "      <td>94</td>\n",
       "    </tr>\n",
       "    <tr>\n",
       "      <th>2008</th>\n",
       "      <td>94</td>\n",
       "      <td>94</td>\n",
       "      <td>94</td>\n",
       "      <td>94</td>\n",
       "      <td>94</td>\n",
       "    </tr>\n",
       "    <tr>\n",
       "      <th>2009</th>\n",
       "      <td>94</td>\n",
       "      <td>94</td>\n",
       "      <td>94</td>\n",
       "      <td>94</td>\n",
       "      <td>94</td>\n",
       "    </tr>\n",
       "    <tr>\n",
       "      <th>2010</th>\n",
       "      <td>94</td>\n",
       "      <td>94</td>\n",
       "      <td>94</td>\n",
       "      <td>94</td>\n",
       "      <td>94</td>\n",
       "    </tr>\n",
       "    <tr>\n",
       "      <th>2011</th>\n",
       "      <td>125</td>\n",
       "      <td>125</td>\n",
       "      <td>125</td>\n",
       "      <td>125</td>\n",
       "      <td>125</td>\n",
       "    </tr>\n",
       "    <tr>\n",
       "      <th>2012</th>\n",
       "      <td>125</td>\n",
       "      <td>125</td>\n",
       "      <td>125</td>\n",
       "      <td>125</td>\n",
       "      <td>125</td>\n",
       "    </tr>\n",
       "    <tr>\n",
       "      <th>2013</th>\n",
       "      <td>125</td>\n",
       "      <td>125</td>\n",
       "      <td>125</td>\n",
       "      <td>125</td>\n",
       "      <td>125</td>\n",
       "    </tr>\n",
       "    <tr>\n",
       "      <th>2014</th>\n",
       "      <td>125</td>\n",
       "      <td>125</td>\n",
       "      <td>125</td>\n",
       "      <td>125</td>\n",
       "      <td>125</td>\n",
       "    </tr>\n",
       "    <tr>\n",
       "      <th>2015</th>\n",
       "      <td>125</td>\n",
       "      <td>125</td>\n",
       "      <td>125</td>\n",
       "      <td>125</td>\n",
       "      <td>125</td>\n",
       "    </tr>\n",
       "    <tr>\n",
       "      <th>2016</th>\n",
       "      <td>142</td>\n",
       "      <td>142</td>\n",
       "      <td>142</td>\n",
       "      <td>142</td>\n",
       "      <td>142</td>\n",
       "    </tr>\n",
       "    <tr>\n",
       "      <th>2017</th>\n",
       "      <td>18</td>\n",
       "      <td>18</td>\n",
       "      <td>18</td>\n",
       "      <td>18</td>\n",
       "      <td>18</td>\n",
       "    </tr>\n",
       "  </tbody>\n",
       "</table>\n",
       "</div>"
      ],
      "text/plain": [
       "      date  score_1  score_2  team_1  team_2\n",
       "year                                        \n",
       "2006    94       94       94      94      94\n",
       "2007    94       94       94      94      94\n",
       "2008    94       94       94      94      94\n",
       "2009    94       94       94      94      94\n",
       "2010    94       94       94      94      94\n",
       "2011   125      125      125     125     125\n",
       "2012   125      125      125     125     125\n",
       "2013   125      125      125     125     125\n",
       "2014   125      125      125     125     125\n",
       "2015   125      125      125     125     125\n",
       "2016   142      142      142     142     142\n",
       "2017    18       18       18      18      18"
      ]
     },
     "execution_count": 9,
     "metadata": {},
     "output_type": "execute_result"
    }
   ],
   "source": [
    "########### Clean and format dates\n",
    "df.date[df.date == \"29/3/088\"] = \"29/03/2008\"\n",
    "df.date[df.date == \"00/05/09\"] = \"09/05/09\"\n",
    "df.date[df.date == \"0907/16\"] = \"09/07/16\"\n",
    "df.date = pd.to_datetime(df.date)\n",
    "df = df.drop_duplicates() # 2007-05-05\t10\t36\tStormers\tSharks is duplicated\n",
    "df['year'] = df.date.dt.year\n",
    "df.groupby('year').count()"
   ]
  },
  {
   "cell_type": "code",
   "execution_count": 13,
   "metadata": {
    "collapsed": false
   },
   "outputs": [
    {
     "name": "stderr",
     "output_type": "stream",
     "text": [
      "C:\\Users\\Liam\\Anaconda3\\lib\\site-packages\\ipykernel\\__main__.py:5: SettingWithCopyWarning: \n",
      "A value is trying to be set on a copy of a slice from a DataFrame\n",
      "\n",
      "See the caveats in the documentation: http://pandas.pydata.org/pandas-docs/stable/indexing.html#indexing-view-versus-copy\n",
      "C:\\Users\\Liam\\Anaconda3\\lib\\site-packages\\ipykernel\\__main__.py:6: SettingWithCopyWarning: \n",
      "A value is trying to be set on a copy of a slice from a DataFrame\n",
      "\n",
      "See the caveats in the documentation: http://pandas.pydata.org/pandas-docs/stable/indexing.html#indexing-view-versus-copy\n"
     ]
    },
    {
     "data": {
      "text/plain": [
       "Crusaders      179\n",
       "Sharks         172\n",
       "Chiefs         172\n",
       "Hurricanes     171\n",
       "Bulls          171\n",
       "Brumbies       170\n",
       "Waratahs       170\n",
       "Highlanders    168\n",
       "Stormers       168\n",
       "Reds           166\n",
       "Blues          165\n",
       "Cheetahs       163\n",
       "Force          162\n",
       "Lions          149\n",
       "Rebels          97\n",
       "Kings           33\n",
       "Jaguares        17\n",
       "Sunwolves       17\n",
       "dtype: int64"
      ]
     },
     "execution_count": 13,
     "metadata": {},
     "output_type": "execute_result"
    }
   ],
   "source": [
    "#### Clean and format team names\n",
    "pattern = \"([A-Z][a-z]*)\\W*$\"\n",
    "df.team_1 = df.team_1.str.extract(pattern)\n",
    "df.team_2 = df.team_2.str.extract(pattern)\n",
    "df.team_1[df.team_1 == 'Cats'] = 'Lions' \n",
    "df.team_2[df.team_2 == 'Cats'] = 'Lions' \n",
    "\n",
    "teams = pd.concat([df.team_1, df.team_2])\n",
    "teams.groupby(teams).count().sort_values(ascending=False)"
   ]
  },
  {
   "cell_type": "code",
   "execution_count": 75,
   "metadata": {
    "collapsed": false
   },
   "outputs": [
    {
     "data": {
      "text/plain": [
       "<matplotlib.axes._subplots.AxesSubplot at 0x211759d6828>"
      ]
     },
     "execution_count": 75,
     "metadata": {},
     "output_type": "execute_result"
    },
    {
     "data": {
      "image/png": "[encoded data removed]",
      "text/plain": [
       "<matplotlib.figure.Figure at 0x21175a3def0>"
      ]
     },
     "metadata": {},
     "output_type": "display_data"
    }
   ],
   "source": [
    "### Clean and format scores\n",
    "df.set_value(151, 'score_1', 9)\n",
    "df.set_value(151, 'score_2', 14)\n",
    "df.score_1 = pd.to_numeric(df.score_1)\n",
    "df.score_2 = pd.to_numeric(df.score_2)\n",
    "\n",
    "pd.concat([df.score_1, df.score_2]).hist(bins=25)\n",
    "#(df.score_1 - df.score_2).abs().hist(bins=25)"
   ]
  },
  {
   "cell_type": "code",
   "execution_count": 50,
   "metadata": {
    "collapsed": false
   },
   "outputs": [
    {
     "data": {
      "text/plain": [
       "date       datetime64[ns]\n",
       "score_1             int64\n",
       "score_2             int64\n",
       "team_1             object\n",
       "team_2             object\n",
       "year                int64\n",
       "dtype: object"
      ]
     },
     "execution_count": 50,
     "metadata": {},
     "output_type": "execute_result"
    }
   ],
   "source": []
  },
  {
   "cell_type": "code",
   "execution_count": null,
   "metadata": {
    "collapsed": true
   },
   "outputs": [],
   "source": []
  }
 ],
 "metadata": {
  "anaconda-cloud": {},
  "kernelspec": {
   "display_name": "Python 3",
   "language": "python",
   "name": "python3"
  },
  "language_info": {
   "codemirror_mode": {
    "name": "ipython",
    "version": 3
   },
   "file_extension": ".py",
   "mimetype": "text/x-python",
   "name": "python",
   "nbconvert_exporter": "python",
   "pygments_lexer": "ipython3",
   "version": "3.5.1"
  }
 },
 "nbformat": 4,
 "nbformat_minor": 0
}
