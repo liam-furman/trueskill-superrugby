{
 "cells": [
  {
   "cell_type": "code",
   "execution_count": 1,
   "metadata": {
    "collapsed": true
   },
   "outputs": [],
   "source": [
    "from bs4 import BeautifulSoup\n",
    "import requests\n",
    "import pandas as pd\n",
    "import datetime"
   ]
  },
  {
   "cell_type": "code",
   "execution_count": 70,
   "metadata": {
    "collapsed": false
   },
   "outputs": [
    {
     "name": "stdout",
     "output_type": "stream",
     "text": [
      "\n",
      "<td>\n",
      "W. Force\n",
      "</td>\n",
      "<td>\n",
      "5\n",
      "</td>\n",
      "<td>\n",
      "18/2/06\n",
      "</td>\n",
      "\n"
     ]
    }
   ],
   "source": [
    "def strip_tags(soup, tags):\n",
    "    for tag in tags:\n",
    "        for match in soup.findAll(tag):\n",
    "            match.replaceWithChildren()\n",
    "\n",
    "soup = BeautifulSoup(\"\"\"\n",
    "    <td>\n",
    "    <div align=\"center\">W. Force</div>\n",
    "    </td>\n",
    "    <td>\n",
    "    <div align=\"center\">5</div>\n",
    "    </td>\n",
    "    <td>\n",
    "    <div align=\"center\">18/2/06</div>\n",
    "    </td>\n",
    "    \"\"\", 'html.parser' )          \n",
    "strip_tag(soup, [\"div\", \"invalid\"])\n",
    "print(soup)"
   ]
  },
  {
   "cell_type": "code",
   "execution_count": 143,
   "metadata": {
    "collapsed": false,
    "scrolled": true
   },
   "outputs": [
    {
     "name": "stdout",
     "output_type": "stream",
     "text": [
      "Successfully downloaded http://www.superxv.com/results/2006-super-rugby-results/\n",
      "Successfully downloaded http://www.superxv.com/results/2007-super-rugby-results/\n",
      "Successfully downloaded http://www.superxv.com/results/2008-super-rugby-results/\n",
      "Successfully downloaded http://www.superxv.com/results/2009-super-rugby-results/\n",
      "Successfully downloaded http://www.superxv.com/results/2010-super-rugby-results/\n",
      "Successfully downloaded http://www.superxv.com/results/2011-super-rugby-results/\n",
      "Successfully downloaded http://www.superxv.com/results/2012-super-rugby-results/\n",
      "Successfully downloaded http://www.superxv.com/results/2013-super-rugby-results/\n",
      "Successfully downloaded http://www.superxv.com/results/2014-super-rugby-results/\n",
      "Successfully downloaded http://www.superxv.com/results/2015-super-rugby-results/\n",
      "Successfully downloaded http://www.superxv.com/results/2016-super-rugby-results/\n",
      "Successfully downloaded http://www.superxv.com/results/2017-super-rugby-results/\n"
     ]
    }
   ],
   "source": [
    "teams_1 = []\n",
    "teams_2 = []\n",
    "scores_1 = []\n",
    "scores_2 = []\n",
    "dates = []\n",
    "for year in [str(y) for y in range(2006, 2018)]:\n",
    "    url = 'http://www.superxv.com/results/{year}-super-rugby-results/'.format(year=year)\n",
    "    page = requests.get(url)\n",
    "    if page.status_code != 200:\n",
    "        print('Error downloading {url}'.format(url=url))\n",
    "    else:\n",
    "        print('Successfully downloaded {url}'.format(url=url))\n",
    "        for table in BeautifulSoup(page.content, 'html.parser').find_all('table'):\n",
    "            strip_tags(table, [\"div\"])\n",
    "            for row in table.find_all('tr')[1:]:\n",
    "                entries = row.find_all('td')\n",
    "                if entries[0].text.strip() not in ['Bye', 'Not playing']: # and entries[1] = '':\n",
    "                    teams_1.append(entries[0].text.strip().replace('\\n',' '))\n",
    "                    teams_2.append(entries[3].text.strip().replace('\\n',' '))\n",
    "                    scores_1.append(entries[1].text.strip())\n",
    "                    scores_2.append(entries[4].text.strip())\n",
    "                    dates.append(entries[5].text.strip())"
   ]
  },
  {
   "cell_type": "code",
   "execution_count": 162,
   "metadata": {
    "collapsed": false
   },
   "outputs": [
    {
     "data": {
      "text/plain": [
       "array(['Blues', 'Force', 'Cheetahs', 'Crusaders', 'Reds', 'Cats', 'Sharks',\n",
       "       'Highlanders', 'Bulls', 'Hurricanes', 'Stormers', '', 'Chiefs',\n",
       "       'Brumbies', 'Waratahs', 'Lions', 'W. Force', 'W Force',\n",
       "       'Melbourne\\xa0Rebels', 'Western\\xa0Force', 'Melbourne Rebels',\n",
       "       'Western Force', 'S.Kings', 'Sunwolves', 'Southern Kings',\n",
       "       'Jaguares', 'Southern\\xa0Kings'], dtype=object)"
      ]
     },
     "execution_count": 162,
     "metadata": {},
     "output_type": "execute_result"
    }
   ],
   "source": [
    "########### Cleaning and formatting dates\n",
    "\n",
    "df = pd.DataFrame({\n",
    "        'date':dates,\n",
    "        'team_1':teams_1,\n",
    "        'team_2':teams_2,\n",
    "        'score_1':scores_1,\n",
    "        'score_2':scores_2})\n",
    "df.date[df.date == \"29/3/088\"] = \"29/03/2008\"\n",
    "df.date[df.date == \"00/05/09\"] = \"09/05/09\"\n",
    "df.date[df.date == \"0907/16\"] = \"09/07/16\"\n",
    "df.date = pd.to_datetime(df.date)"
   ]
  },
  {
   "cell_type": "code",
   "execution_count": null,
   "metadata": {
    "collapsed": true
   },
   "outputs": [],
   "source": []
  }
 ],
 "metadata": {
  "anaconda-cloud": {},
  "kernelspec": {
   "display_name": "Python 3",
   "language": "python",
   "name": "python3"
  },
  "language_info": {
   "codemirror_mode": {
    "name": "ipython",
    "version": 3
   },
   "file_extension": ".py",
   "mimetype": "text/x-python",
   "name": "python",
   "nbconvert_exporter": "python",
   "pygments_lexer": "ipython3",
   "version": "3.5.1"
  }
 },
 "nbformat": 4,
 "nbformat_minor": 0
}
